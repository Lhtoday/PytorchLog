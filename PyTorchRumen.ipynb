{
 "cells": [
  {
   "cell_type": "markdown",
   "source": [
    "Tensor"
   ],
   "metadata": {
    "collapsed": false
   }
  },
  {
   "cell_type": "code",
   "execution_count": 1,
   "outputs": [
    {
     "data": {
      "text/plain": "'1.13.0'"
     },
     "execution_count": 1,
     "metadata": {},
     "output_type": "execute_result"
    }
   ],
   "source": [
    "from __future__ import print_function\n",
    "import torch as t\n",
    "t.__version__"
   ],
   "metadata": {
    "collapsed": false
   }
  },
  {
   "cell_type": "code",
   "execution_count": 2,
   "outputs": [
    {
     "data": {
      "text/plain": "tensor([[1.0469e-38, 1.0653e-38, 1.0469e-38],\n        [4.2246e-39, 1.0286e-38, 1.0653e-38],\n        [1.0194e-38, 8.4490e-39, 1.0469e-38],\n        [9.3674e-39, 9.9184e-39, 8.7245e-39],\n        [9.2755e-39, 8.9082e-39, 9.9184e-39]])"
     },
     "execution_count": 2,
     "metadata": {},
     "output_type": "execute_result"
    }
   ],
   "source": [
    "# 构建5 x 3矩阵, 只分配了空间, 没有初始化\n",
    "x = t.Tensor(5, 3)\n",
    "x"
   ],
   "metadata": {
    "collapsed": false
   }
  },
  {
   "cell_type": "code",
   "execution_count": 3,
   "outputs": [
    {
     "data": {
      "text/plain": "tensor([[0.4581, 0.4305, 0.7200],\n        [0.5199, 0.1090, 0.0375],\n        [0.8525, 0.5224, 0.4763],\n        [0.8847, 0.4962, 0.9043],\n        [0.2382, 0.5198, 0.2610]])"
     },
     "execution_count": 3,
     "metadata": {},
     "output_type": "execute_result"
    }
   ],
   "source": [
    "#使用0 1 巨晕分布随即初始化二维数组\n",
    "x = t.rand(5, 3)\n",
    "x"
   ],
   "metadata": {
    "collapsed": false
   }
  },
  {
   "cell_type": "code",
   "execution_count": 4,
   "outputs": [
    {
     "name": "stdout",
     "output_type": "stream",
     "text": [
      "torch.Size([5, 3])\n"
     ]
    },
    {
     "data": {
      "text/plain": "(3, 3)"
     },
     "execution_count": 4,
     "metadata": {},
     "output_type": "execute_result"
    }
   ],
   "source": [
    "print(x.size()) #产看x的形状\n",
    "x.size()[1], x.size(1) #查看列数, 两个方法都可"
   ],
   "metadata": {
    "collapsed": false
   }
  },
  {
   "cell_type": "code",
   "execution_count": 5,
   "outputs": [],
   "source": [
    "y = t.rand(5, 3)"
   ],
   "metadata": {
    "collapsed": false
   }
  },
  {
   "cell_type": "code",
   "execution_count": 6,
   "outputs": [
    {
     "data": {
      "text/plain": "tensor([[0.9883, 1.0845, 1.2241],\n        [1.3170, 0.4753, 0.6006],\n        [1.5868, 0.5848, 1.2820],\n        [1.2007, 0.8254, 1.5545],\n        [0.6770, 0.9336, 1.2231]])"
     },
     "execution_count": 6,
     "metadata": {},
     "output_type": "execute_result"
    }
   ],
   "source": [
    "x + y"
   ],
   "metadata": {
    "collapsed": false
   }
  },
  {
   "cell_type": "code",
   "execution_count": 7,
   "outputs": [
    {
     "data": {
      "text/plain": "tensor([[0.9883, 1.0845, 1.2241],\n        [1.3170, 0.4753, 0.6006],\n        [1.5868, 0.5848, 1.2820],\n        [1.2007, 0.8254, 1.5545],\n        [0.6770, 0.9336, 1.2231]])"
     },
     "execution_count": 7,
     "metadata": {},
     "output_type": "execute_result"
    }
   ],
   "source": [
    "t.add(x, y)"
   ],
   "metadata": {
    "collapsed": false
   }
  },
  {
   "cell_type": "code",
   "execution_count": 8,
   "outputs": [
    {
     "data": {
      "text/plain": "tensor([[0.9883, 1.0845, 1.2241],\n        [1.3170, 0.4753, 0.6006],\n        [1.5868, 0.5848, 1.2820],\n        [1.2007, 0.8254, 1.5545],\n        [0.6770, 0.9336, 1.2231]])"
     },
     "execution_count": 8,
     "metadata": {},
     "output_type": "execute_result"
    }
   ],
   "source": [
    "result = t.Tensor(5, 3)\n",
    "t.add(x, y, out=result)\n",
    "result"
   ],
   "metadata": {
    "collapsed": false
   }
  },
  {
   "cell_type": "code",
   "execution_count": 9,
   "outputs": [
    {
     "name": "stdout",
     "output_type": "stream",
     "text": [
      "origin y\n",
      "tensor([[0.5302, 0.6540, 0.5041],\n",
      "        [0.7971, 0.3663, 0.5631],\n",
      "        [0.7343, 0.0624, 0.8057],\n",
      "        [0.3160, 0.3293, 0.6502],\n",
      "        [0.4388, 0.4138, 0.9621]])\n",
      "unchange y value\n",
      "tensor([[0.5302, 0.6540, 0.5041],\n",
      "        [0.7971, 0.3663, 0.5631],\n",
      "        [0.7343, 0.0624, 0.8057],\n",
      "        [0.3160, 0.3293, 0.6502],\n",
      "        [0.4388, 0.4138, 0.9621]])\n",
      "change y value\n",
      "tensor([[0.9883, 1.0845, 1.2241],\n",
      "        [1.3170, 0.4753, 0.6006],\n",
      "        [1.5868, 0.5848, 1.2820],\n",
      "        [1.2007, 0.8254, 1.5545],\n",
      "        [0.6770, 0.9336, 1.2231]])\n"
     ]
    }
   ],
   "source": [
    "print(\"origin y\")\n",
    "print(y)\n",
    "\n",
    "print('unchange y value')\n",
    "y.add(x)\n",
    "print(y)\n",
    "\n",
    "print('change y value')\n",
    "y.add_(x)\n",
    "print(y)"
   ],
   "metadata": {
    "collapsed": false
   }
  },
  {
   "cell_type": "code",
   "execution_count": 10,
   "outputs": [
    {
     "data": {
      "text/plain": "tensor([0.9883, 1.3170, 1.5868, 1.2007, 0.6770])"
     },
     "execution_count": 10,
     "metadata": {},
     "output_type": "execute_result"
    }
   ],
   "source": [
    "y[:, 0] # 支持切片操作, tensor 涵盖了 numpy的方法"
   ],
   "metadata": {
    "collapsed": false
   }
  },
  {
   "cell_type": "code",
   "execution_count": 11,
   "outputs": [
    {
     "data": {
      "text/plain": "tensor([1., 1., 1., 1., 1.])"
     },
     "execution_count": 11,
     "metadata": {},
     "output_type": "execute_result"
    }
   ],
   "source": [
    "a = t.ones(5) #生成全是1 的向量\n",
    "a"
   ],
   "metadata": {
    "collapsed": false
   }
  },
  {
   "cell_type": "code",
   "execution_count": 12,
   "outputs": [
    {
     "name": "stdout",
     "output_type": "stream",
     "text": [
      "[1. 1. 1. 1. 1.]\n",
      "<class 'numpy.ndarray'>\n"
     ]
    }
   ],
   "source": [
    "import numpy as np\n",
    "b = a.numpy() # tensor -> numpy\n",
    "print(b)\n",
    "print(type(b))"
   ],
   "metadata": {
    "collapsed": false
   }
  },
  {
   "cell_type": "code",
   "execution_count": 13,
   "outputs": [
    {
     "name": "stdout",
     "output_type": "stream",
     "text": [
      "[1. 1. 1. 1. 1. 1.]\n",
      "tensor([1., 1., 1., 1., 1., 1.], dtype=torch.float64)\n"
     ]
    }
   ],
   "source": [
    "a = np.ones(6)\n",
    "b = t.from_numpy(a) #numpy -> tensor\n",
    "print(a)\n",
    "print(b)\n"
   ],
   "metadata": {
    "collapsed": false
   }
  },
  {
   "cell_type": "markdown",
   "source": [
    "#### 转换前后的 tensor 和 numpy共享内存， 转换速度快， 几乎不消耗其他资源， 但是任何操作都会同时导致两个\n",
    "#### 对象的改变"
   ],
   "metadata": {
    "collapsed": false
   }
  },
  {
   "cell_type": "code",
   "execution_count": 14,
   "outputs": [
    {
     "name": "stdout",
     "output_type": "stream",
     "text": [
      "[1. 1. 1. 1. 1. 1.]\n",
      "tensor([1., 1., 1., 1., 1., 1.], dtype=torch.float64)\n"
     ]
    }
   ],
   "source": [
    "b.add(1)\n",
    "print(a)\n",
    "print(b)\n"
   ],
   "metadata": {
    "collapsed": false
   }
  },
  {
   "cell_type": "code",
   "execution_count": 15,
   "outputs": [
    {
     "name": "stdout",
     "output_type": "stream",
     "text": [
      "[2. 2. 2. 2. 2. 2.]\n",
      "tensor([2., 2., 2., 2., 2., 2.], dtype=torch.float64)\n"
     ]
    }
   ],
   "source": [
    "b.add_(1)\n",
    "print(a)\n",
    "print(b)"
   ],
   "metadata": {
    "collapsed": false
   }
  },
  {
   "cell_type": "code",
   "execution_count": 16,
   "outputs": [
    {
     "name": "stdout",
     "output_type": "stream",
     "text": [
      "[4. 4. 4. 4. 4. 4.]\n",
      "tensor([4., 4., 4., 4., 4., 4.], dtype=torch.float64)\n",
      "tensor([4., 4., 4., 4., 4., 4.], dtype=torch.float64)\n"
     ]
    }
   ],
   "source": [
    "c = b;\n",
    "b.add_(2)\n",
    "print(a)\n",
    "print(b)\n",
    "print(c)"
   ],
   "metadata": {
    "collapsed": false
   }
  },
  {
   "cell_type": "markdown",
   "source": [
    "##### 可见a, b, c共享内存\n",
    "##### 若只想获取一个值 可以使用scalar.item"
   ],
   "metadata": {
    "collapsed": false
   }
  },
  {
   "cell_type": "code",
   "execution_count": 17,
   "outputs": [
    {
     "name": "stdout",
     "output_type": "stream",
     "text": [
      "[4. 4. 4. 4. 4. 4.]\n",
      "tensor([4., 4., 4., 4., 4., 4.], dtype=torch.float64)\n",
      "tensor([4., 4., 4., 4., 4., 4.], dtype=torch.float64)\n",
      "10\n"
     ]
    }
   ],
   "source": [
    "d = a[1]\n",
    "d = 10\n",
    "print(a)\n",
    "print(b)\n",
    "print(c)\n",
    "print(d)"
   ],
   "metadata": {
    "collapsed": false
   }
  },
  {
   "cell_type": "code",
   "execution_count": 18,
   "outputs": [
    {
     "data": {
      "text/plain": "tensor(4., dtype=torch.float64)"
     },
     "execution_count": 18,
     "metadata": {},
     "output_type": "execute_result"
    }
   ],
   "source": [
    "scalar = b[0]\n",
    "scalar"
   ],
   "metadata": {
    "collapsed": false
   }
  },
  {
   "cell_type": "code",
   "execution_count": 19,
   "outputs": [
    {
     "data": {
      "text/plain": "torch.Size([])"
     },
     "execution_count": 19,
     "metadata": {},
     "output_type": "execute_result"
    }
   ],
   "source": [
    "scalar.size()"
   ],
   "metadata": {
    "collapsed": false
   }
  },
  {
   "cell_type": "code",
   "execution_count": 20,
   "outputs": [
    {
     "data": {
      "text/plain": "4.0"
     },
     "execution_count": 20,
     "metadata": {},
     "output_type": "execute_result"
    }
   ],
   "source": [
    "scalar.item()"
   ],
   "metadata": {
    "collapsed": false
   }
  },
  {
   "cell_type": "code",
   "execution_count": 21,
   "outputs": [],
   "source": [
    "tensor = t.tensor([2])"
   ],
   "metadata": {
    "collapsed": false
   }
  },
  {
   "cell_type": "code",
   "execution_count": 22,
   "outputs": [
    {
     "data": {
      "text/plain": "(tensor([2]), tensor(4., dtype=torch.float64))"
     },
     "execution_count": 22,
     "metadata": {},
     "output_type": "execute_result"
    }
   ],
   "source": [
    "tensor, scalar"
   ],
   "metadata": {
    "collapsed": false
   }
  },
  {
   "cell_type": "code",
   "execution_count": 23,
   "outputs": [],
   "source": [
    "#只有一个元素的tensor也可以调用item()方法\n",
    "t1 = t.tensor([1, 2])\n",
    "t2 = t.tensor([3])"
   ],
   "metadata": {
    "collapsed": false
   }
  },
  {
   "cell_type": "code",
   "execution_count": 24,
   "outputs": [
    {
     "ename": "ValueError",
     "evalue": "only one element tensors can be converted to Python scalars",
     "output_type": "error",
     "traceback": [
      "\u001B[1;31m---------------------------------------------------------------------------\u001B[0m",
      "\u001B[1;31mValueError\u001B[0m                                Traceback (most recent call last)",
      "\u001B[1;32m<ipython-input-24-e9c77415f23f>\u001B[0m in \u001B[0;36m<module>\u001B[1;34m\u001B[0m\n\u001B[1;32m----> 1\u001B[1;33m \u001B[0mt1\u001B[0m\u001B[1;33m.\u001B[0m\u001B[0mitem\u001B[0m\u001B[1;33m(\u001B[0m\u001B[1;33m)\u001B[0m\u001B[1;33m\u001B[0m\u001B[1;33m\u001B[0m\u001B[0m\n\u001B[0m",
      "\u001B[1;31mValueError\u001B[0m: only one element tensors can be converted to Python scalars"
     ]
    }
   ],
   "source": [
    "t1.item()"
   ],
   "metadata": {
    "collapsed": false
   }
  },
  {
   "cell_type": "code",
   "execution_count": null,
   "outputs": [],
   "source": [
    "t2.item()"
   ],
   "metadata": {
    "collapsed": false
   }
  },
  {
   "cell_type": "code",
   "execution_count": null,
   "outputs": [],
   "source": [
    "old_tensor = t.tensor([1,2,3])\n",
    "new_tensor = old_tensor.clone()\n",
    "new_tensor[0] = 11111\n",
    "old_tensor, new_tensor"
   ],
   "metadata": {
    "collapsed": false
   }
  },
  {
   "cell_type": "markdown",
   "source": [
    "#### t.tensor() 和 tensor.clone() 总是会进行数据拷贝, 新旧tensor不共享内存\n",
    "#### 如果要共享内存可以使用 tensor.from_numpy() 或者 tensor.detach()来新建一个tensor\n",
    "#### 二者共享内存"
   ],
   "metadata": {
    "collapsed": false
   }
  },
  {
   "cell_type": "code",
   "execution_count": null,
   "outputs": [],
   "source": [
    "new_tensor2 = old_tensor.detach()\n",
    "new_tensor2[2] = 3333\n",
    "old_tensor, new_tensor, new_tensor2"
   ],
   "metadata": {
    "collapsed": false
   }
  },
  {
   "cell_type": "markdown",
   "source": [
    "#### tensor可以通过 .cuda方法转为GPU的tensor，从而享受GPU带来的加速运算"
   ],
   "metadata": {
    "collapsed": false
   }
  },
  {
   "cell_type": "markdown",
   "source": [
    "## autograd：自动微分"
   ],
   "metadata": {
    "collapsed": false
   }
  },
  {
   "cell_type": "markdown",
   "source": [
    "##### 深度学习的算法本质是通过反向传播求倒数，而pytorch的autograd模块则实现了这个功能\n",
    "##### tensor上的所有操作 autograd都能自动的计算 微分\n",
    "##### 从0.4起Variable正式并入Tensor，说明Tensor也能进行自动机打算微分的操作\n",
    "##### 使用Tensor的autograd功能， tensor.requries_grad=True"
   ],
   "metadata": {
    "collapsed": false
   }
  },
  {
   "cell_type": "code",
   "execution_count": null,
   "outputs": [],
   "source": [
    "x = t.tensor([1.,2.,3.], requires_grad=True)\n",
    "x"
   ],
   "metadata": {
    "collapsed": false
   }
  },
  {
   "cell_type": "code",
   "execution_count": null,
   "outputs": [],
   "source": [
    "y = (x + 1) ** 2\n",
    "y"
   ],
   "metadata": {
    "collapsed": false
   }
  },
  {
   "cell_type": "code",
   "execution_count": null,
   "outputs": [],
   "source": [
    "y.grad_fn"
   ],
   "metadata": {
    "collapsed": false
   }
  },
  {
   "cell_type": "code",
   "execution_count": null,
   "outputs": [],
   "source": [
    "y.backward() #标量才能进行反向传播，修改如下"
   ],
   "metadata": {
    "collapsed": false
   }
  },
  {
   "cell_type": "code",
   "execution_count": null,
   "outputs": [],
   "source": [
    "y.backward(t.tensor([1,1,1]), retain_graph=True) #正确的\n",
    "x.grad"
   ],
   "metadata": {
    "collapsed": false
   }
  },
  {
   "cell_type": "markdown",
   "source": [
    "<https://zhuanlan.zhihu.com/p/168748668>"
   ],
   "metadata": {
    "collapsed": false
   }
  },
  {
   "cell_type": "markdown",
   "source": [
    "##### 上面的例子 给出了x的三个值 1 2 3\n",
    "##### y = (x + 1) ** 2\n",
    "##### y 关于 x 的 导数 y' = 2 ( x + 1 )\n",
    "##### 所以最后输出 4 6 8\n",
    "##### 我的理解 先定义 自变量 在定义函数 在进行backward 就是求导\n",
    "##### 反向传播是神经网络最核心的部分。 反向传播，可以看成链式求导过程，一环套一环，通过对误差最终的损失函数求导，损失函数对每个参数进行求导，求导过程就是反向传播过程"
   ],
   "metadata": {
    "collapsed": false
   }
  },
  {
   "cell_type": "code",
   "execution_count": null,
   "outputs": [],
   "source": [
    "y.backward(t.tensor([1,1,1])) #正确的\n",
    "x.grad"
   ],
   "metadata": {
    "collapsed": false
   }
  },
  {
   "cell_type": "code",
   "execution_count": null,
   "outputs": [],
   "source": [
    "y.backward(t.tensor([1,1,1])) #正确的\n",
    "x.grad"
   ],
   "metadata": {
    "collapsed": false
   }
  },
  {
   "cell_type": "markdown",
   "source": [
    "##### 报错原因就是pytorch的计算图在第一次执行完backward计算梯度的时候就已经被释放了。第二次想要再用计算图计算时，计算图已经没了，自然报错。\n",
    "##### 解决方法之一就是 在 backward()里面加上retain_graph=True\n",
    "##### 但是会导致内存消耗"
   ],
   "metadata": {
    "collapsed": false
   }
  },
  {
   "cell_type": "markdown",
   "source": [
    "# 神经网络"
   ],
   "metadata": {
    "collapsed": false
   }
  },
  {
   "cell_type": "code",
   "execution_count": 81,
   "outputs": [
    {
     "name": "stdout",
     "output_type": "stream",
     "text": [
      "Net(\n",
      "  (conv1): Conv2d(1, 6, kernel_size=(5, 5), stride=(1, 1))\n",
      "  (conv2): Conv2d(6, 16, kernel_size=(5, 5), stride=(1, 1))\n",
      "  (fc1): Linear(in_features=400, out_features=120, bias=True)\n",
      "  (fc2): Linear(in_features=120, out_features=84, bias=True)\n",
      "  (fc3): Linear(in_features=84, out_features=10, bias=True)\n",
      ")\n"
     ]
    }
   ],
   "source": [
    "import torch.nn as nn\n",
    "import torch.nn.functional as F\n",
    "\n",
    "#https://blog.csdn.net/qq_42079689/article/details/102642610\n",
    "\n",
    "class Net(nn.Module):\n",
    "    def __init__(self):\n",
    "        # nn.Module子类的函数必须在构造函数中执行弗雷德构造函数\n",
    "        # 下面句子等价 nn.Module.__init__(self)\n",
    "        super(Net, self).__init__()\n",
    "        #卷积 卷积核 https://zhuanlan.zhihu.com/p/417202700\n",
    "        #卷积层 ‘1’表示输入图片为单通道, '6'表示输出通道的数目, '5'表示卷积核为5*5\n",
    "        # 第一层是输入1通道的（说明是单通道，灰色的图片）图片，输出6层卷积层（说明用到了6个卷积核，而每个卷积核是5*5的）。\n",
    "        self.conv1 = nn.Conv2d(1, 6, 5)\n",
    "        #卷积层\n",
    "        self.conv2 = nn.Conv2d(6, 16, 5)\n",
    "        #全链接层(仿射层), y = Wx +　ｂ\n",
    "        # 定义了三个全连接层，即fc1与conv2相连，将16张5*5的卷积网络一维化，并输出120个节点。\n",
    "        #线性层的输入要素的数量由来自上一层的激活尺寸定义。上一层的激活的形状为[batch_size，channels= 16，height= 5，width= 5]。为了将此激活传递给nn.Linear，需要将此张量展平为[batch_size，16 * 5 * 5]。16是由out_channels的数量（即前一个conv层中的过滤器内核的数量）定义的，而5x5是由conv和对输入数据执行的池化操作定义的空间大小\n",
    "        self.fc1 = nn.Linear(16*5*5, 120)\n",
    "        #16 * 5 * 5是经过了两个卷积层后得到的 作为全链接层的输入\n",
    "        self.fc2 = nn.Linear(120, 84)\n",
    "        # 将120个节点转化为84个。\n",
    "        self.fc3 = nn.Linear(84, 10)\n",
    "        # 将84个节点输出为10个，即有10个分类结果。\n",
    "\n",
    "    def forward(self, x):\n",
    "        #卷积 -> 激活 -> 池化\n",
    "\n",
    "        # Max pooling over a (2, 2) window\n",
    "        # 本文以ReLU作为损失函数进行演示\n",
    "        # 用relu激活函数作为一个池化层，池化的窗口大小是2*2，这个也与上文的16*5*5的计算结果相符（一开始我没弄懂为什么fc1的输入点数是16*5*5,后来发现，这个例子是建立在lenet5上的）。\n",
    "        # 这句整体的意思是，先用conv1卷积，然后激活，激活的窗口是2*2。\n",
    "        x = F.max_pool2d(F.relu(self.conv1(x)), (2, 2))\n",
    "\n",
    "        # If the size is a square you can only specify a single number\n",
    "        # 作用同上，然后有个需要注意的地方是在 窗口是正方形 的时候， 2的写法等同于（2，2）。\n",
    "        # 这句整体的意思是，先用conv2卷积，然后激活，激活的窗口是2*2。\n",
    "        x = F.max_pool2d(F.relu(self.conv2(x)), 2)\n",
    "        x = x.view(x.size()[0], -1) #size() 查看 维度\n",
    "\n",
    "        # 用一下全连接层fc1，然后做一个激活。\n",
    "        x = F.relu(self.fc1(x))\n",
    "        # 用一下全连接层fc2，然后做一个激活。\n",
    "        x = F.relu(self.fc2(x))\n",
    "        # 用一下全连接层fc3.\n",
    "        x = self.fc3(x)\n",
    "\n",
    "        return x\n",
    "\n",
    "\n",
    "net = Net()\n",
    "print(net)\n",
    "\n"
   ],
   "metadata": {
    "collapsed": false
   }
  },
  {
   "cell_type": "markdown",
   "source": [
    "##### 只要在nn.Module的子类中定义了forward函数，backward函数就会自动被实现(利用autograd)。在forward 函数中可使用任何tensor支持的函数，还可以使用if、for\n",
    "##### 循环 print、log等Python语法，写法和标准的Python写法一致。"
   ],
   "metadata": {
    "collapsed": false
   }
  },
  {
   "cell_type": "code",
   "execution_count": 82,
   "outputs": [
    {
     "name": "stdout",
     "output_type": "stream",
     "text": [
      "10\n"
     ]
    }
   ],
   "source": [
    "params = list(net.parameters())\n",
    "print(len((params)))"
   ],
   "metadata": {
    "collapsed": false
   }
  },
  {
   "cell_type": "code",
   "execution_count": 83,
   "outputs": [
    {
     "name": "stdout",
     "output_type": "stream",
     "text": [
      "conv1.weight : torch.Size([6, 1, 5, 5])\n",
      "conv1.bias : torch.Size([6])\n",
      "conv2.weight : torch.Size([16, 6, 5, 5])\n",
      "conv2.bias : torch.Size([16])\n",
      "fc1.weight : torch.Size([120, 400])\n",
      "fc1.bias : torch.Size([120])\n",
      "fc2.weight : torch.Size([84, 120])\n",
      "fc2.bias : torch.Size([84])\n",
      "fc3.weight : torch.Size([10, 84])\n",
      "fc3.bias : torch.Size([10])\n"
     ]
    }
   ],
   "source": [
    "for name, parameters in net.named_parameters():\n",
    "    print(name, ':', parameters.size())"
   ],
   "metadata": {
    "collapsed": false
   }
  },
  {
   "cell_type": "code",
   "execution_count": 84,
   "outputs": [
    {
     "data": {
      "text/plain": "10"
     },
     "execution_count": 84,
     "metadata": {},
     "output_type": "execute_result"
    }
   ],
   "source": [
    "input = t.randn(1, 1, 32, 32)\n",
    "out = net(input)\n",
    "out.size()\n",
    "out.size()[1]"
   ],
   "metadata": {
    "collapsed": false
   }
  },
  {
   "cell_type": "code",
   "execution_count": 85,
   "outputs": [],
   "source": [
    "net.zero_grad()\n",
    "out.backward(t.ones(1, out.size()[1]))"
   ],
   "metadata": {
    "collapsed": false
   }
  },
  {
   "cell_type": "markdown",
   "source": [
    "##### batch批， 采用批处理， 能够 提升内存利用率 减少迭代次数， torch.nn只支持mini-batches,\n",
    "##### 不支持一次只输入 一个样本， 即 一次必须是一个batch， 但是如果只想输入一个样本， 那么用input.unsqueeze(0)\n",
    "##### 把batch_size设置为1， 比如 nn.Conv2d 的输入必须是4维的，\n",
    "##### 形如 nSample x nChannels x Height x Width, 可以将nSample\n",
    "##### 设置为1， 即 1 x nChannels x Height x Width"
   ],
   "metadata": {
    "collapsed": false
   }
  },
  {
   "cell_type": "markdown",
   "source": [
    "### 损失函数\n",
    "##### nn实现了神经网络中的大多数的损失函数， 例如nn.MSELoss用来计算均方误差\n",
    "##### nn.CrossEntropyLoss来计算交叉熵损失"
   ],
   "metadata": {
    "collapsed": false
   }
  },
  {
   "cell_type": "code",
   "execution_count": 86,
   "outputs": [
    {
     "data": {
      "text/plain": "tensor(28.7756, grad_fn=<MseLossBackward0>)"
     },
     "execution_count": 86,
     "metadata": {},
     "output_type": "execute_result"
    }
   ],
   "source": [
    "output = net(input)\n",
    "target = t.arange(0,10).view(1,10).float()\n",
    "criterion = nn.MSELoss()\n",
    "loss = criterion(output, target)\n",
    "loss"
   ],
   "metadata": {
    "collapsed": false
   }
  },
  {
   "cell_type": "code",
   "execution_count": 87,
   "outputs": [
    {
     "data": {
      "text/plain": "tensor([[0., 1., 2., 3., 4., 5., 6., 7., 8., 9.]])"
     },
     "execution_count": 87,
     "metadata": {},
     "output_type": "execute_result"
    }
   ],
   "source": [
    "target"
   ],
   "metadata": {
    "collapsed": false
   }
  },
  {
   "cell_type": "markdown",
   "source": [
    "##### 如果对loss进行反向传播溯源(使用gradfn属性)，可以看到他的计算过程如下\n",
    "##### input -> conv2d -> relu -> maxpool2d -> conv2d -> relu -> maxpool2d\n",
    "##### view -> linear -> relu -> linear -> relu -> linear\n",
    "##### MSELoss\n",
    "##### loss\n",
    "##### 当调用loss.backward()时候，该图会自动生成并且自动微分，即:自动计算途中参数(Parameter)"
   ],
   "metadata": {
    "collapsed": false
   }
  },
  {
   "cell_type": "code",
   "execution_count": 88,
   "outputs": [
    {
     "name": "stdout",
     "output_type": "stream",
     "text": [
      "反向传播之前的梯度\n",
      "tensor([0., 0., 0., 0., 0., 0.])\n",
      "反向传播之后的梯度\n",
      "tensor([ 0.0686,  0.0454,  0.0113,  0.0183, -0.0218, -0.0601])\n"
     ]
    }
   ],
   "source": [
    "#运行 backward(), 调查调用之前和调用之后的grad\n",
    "net.zero_grad() #把net中所有可以学习的参数梯度清零\n",
    "print('反向传播之前的梯度')\n",
    "print(net.conv1.bias.grad)\n",
    "loss.backward()\n",
    "print('反向传播之后的梯度')\n",
    "print(net.conv1.bias.grad)"
   ],
   "metadata": {
    "collapsed": false
   }
  },
  {
   "cell_type": "markdown",
   "source": [
    "#### 优化器\n",
    "##### 在反向传播计算完所有的参数梯度后， 还需要使用优化方法来更新网络的权重和参数\n",
    "##### 例如随即梯度的更新算法(SGD)的更新策略如下\n",
    "> weight = weight - learning_rate * gradient"
   ],
   "metadata": {
    "collapsed": false
   }
  },
  {
   "cell_type": "markdown",
   "source": [
    "##### 手动实现如下:"
   ],
   "metadata": {
    "collapsed": false
   }
  },
  {
   "cell_type": "code",
   "execution_count": 89,
   "outputs": [],
   "source": [
    "learning_rate = 0.01\n",
    "for f in net.parameters():\n",
    "    f.data.sub_(f.grad.data * learning_rate)"
   ],
   "metadata": {
    "collapsed": false
   }
  },
  {
   "cell_type": "markdown",
   "source": [
    "##### torch.optim中实现了深度学习中绝大多数的优化方法，例如RMSProp、Adam、SGD等，更便于使用，因此大多数时候并不需要手动写上述代码"
   ],
   "metadata": {
    "collapsed": false
   }
  },
  {
   "cell_type": "code",
   "execution_count": 90,
   "outputs": [],
   "source": [
    "import torch.optim as optim\n",
    "#新建一个优化器，指定要调整的参数和学习率\n",
    "optimizer = optim.SGD(net.parameters(), lr=0.01)\n",
    "\n",
    "#训练训练过程中\n",
    "#先把梯度清零(与 net.zero_grad()效果一致)\n",
    "optimizer.zero_grad()\n",
    "\n",
    "#计算损失\n",
    "output = net(input)\n",
    "loss = criterion(output, target)\n",
    "\n",
    "#反向传播\n",
    "loss.backward()\n",
    "\n",
    "#更新参数\n",
    "optimizer.step()"
   ],
   "metadata": {
    "collapsed": false
   }
  },
  {
   "cell_type": "code",
   "execution_count": 91,
   "outputs": [
    {
     "data": {
      "text/plain": "tensor([[0., 1., 2., 3., 4., 5., 6., 7., 8., 9.]])"
     },
     "execution_count": 91,
     "metadata": {},
     "output_type": "execute_result"
    }
   ],
   "source": [
    "target"
   ],
   "metadata": {
    "collapsed": false
   }
  },
  {
   "cell_type": "markdown",
   "source": [
    "## CIFAR-10分类\n",
    "###### 1.使用torchvision加载并预处理CIFAR-10数据集\n",
    "###### 2.定义网络\n",
    "###### 3.定义损失函数和优化器\n",
    "###### 4.训练网络并且更新参数\n",
    "###### 5.测试网络"
   ],
   "metadata": {
    "collapsed": false
   }
  },
  {
   "cell_type": "markdown",
   "source": [
    "#### CIFAR-10数据加载及其预处理\n",
    "###### CIFAR-10^3是一个常用的彩色图片数据集， 他有十个类别: 'airplane', 'automobile', 'bird', 'cat', 'deer', 'dog', 'frog', 'horse', 'ship', 'truck'， 每张图片都是 3 x 32 x 32 即：三通道彩色图片，分辨率是32 x 32"
   ],
   "metadata": {
    "collapsed": false
   }
  },
  {
   "cell_type": "code",
   "execution_count": 92,
   "outputs": [],
   "source": [
    "import torchvision as tv\n",
    "import torchvision.transforms as transforms\n",
    "from torchvision.transforms import  ToPILImage\n",
    "show = ToPILImage() # 可以把Tensor转成Image，方便可视化"
   ],
   "metadata": {
    "collapsed": false
   }
  },
  {
   "cell_type": "code",
   "execution_count": 93,
   "outputs": [
    {
     "name": "stdout",
     "output_type": "stream",
     "text": [
      "Files already downloaded and verified\n",
      "Files already downloaded and verified\n"
     ]
    }
   ],
   "source": [
    "#定义对数据的预处理\n",
    "transform = transforms.Compose([\n",
    "    transforms.ToTensor(),\n",
    "    transforms.Normalize([0.5, 0.5, 0.5], [0.5, 0.5, 0.5]) #Nornalize里面的参数是 均值 标准差\n",
    "])\n",
    "\n",
    "#训练集\n",
    "trainset = tv.datasets.CIFAR10(\n",
    "    root='D:\\Code',\n",
    "    train=True,\n",
    "    download=True,\n",
    "    transform=transform\n",
    ")\n",
    "\n",
    "# torch.utils.data.DataLoader 参数 详解 https://blog.csdn.net/qq_36653505/article/details/84728855\n",
    "trainloader = t.utils.data.DataLoader( #主要是对数据进行batch的划分,提高内存的利用率\n",
    "    trainset,\n",
    "    batch_size=4,\n",
    "    shuffle=True,\n",
    "    num_workers=2\n",
    ")\n",
    "\n",
    "#测试集\n",
    "testset = tv.datasets.CIFAR10(\n",
    "    root='D:\\Code',\n",
    "    train=False,\n",
    "    download=True,\n",
    "    transform=transform\n",
    ")\n",
    "\n",
    "testloader = t.utils.data.DataLoader( #主要是对数据进行batch的划分,提高内存的利用率\n",
    "    testset,\n",
    "    batch_size=4,\n",
    "    shuffle=True,\n",
    "    num_workers=2\n",
    ")\n",
    "\n",
    "classes = ('plane', 'car', 'bird', 'cat','deer', 'dog', 'frog', 'horse', 'ship', 'truck'\n",
    ")\n"
   ],
   "metadata": {
    "collapsed": false
   }
  },
  {
   "cell_type": "code",
   "execution_count": 94,
   "outputs": [
    {
     "name": "stdout",
     "output_type": "stream",
     "text": [
      "(50000, 32, 32, 3)\n"
     ]
    }
   ],
   "source": [
    "print(trainset.data.shape)"
   ],
   "metadata": {
    "collapsed": false
   }
  },
  {
   "cell_type": "code",
   "execution_count": 95,
   "outputs": [
    {
     "name": "stdout",
     "output_type": "stream",
     "text": [
      "torch.Size([3, 32, 32])\n"
     ]
    }
   ],
   "source": [
    "(data, label) = trainset[49999] #随便取一个数据\n",
    "print(data.shape)"
   ],
   "metadata": {
    "collapsed": false
   }
  },
  {
   "cell_type": "code",
   "execution_count": 96,
   "outputs": [
    {
     "data": {
      "text/plain": "<PIL.Image.Image image mode=RGB size=100x100 at 0xEA299A0>",
      "image/png": "[encoded data removed]"
     },
     "execution_count": 96,
     "metadata": {},
     "output_type": "execute_result"
    }
   ],
   "source": [
    "show((data + 1) / 2).resize((100, 100))"
   ],
   "metadata": {
    "collapsed": false
   }
  },
  {
   "cell_type": "markdown",
   "source": [
    "##### Dataloader是一个可迭代的对象，它将dataset返回的每一条数据拼接成一个batch，并提供多线程加速优化和数据打乱等操作。当程序对dataset的所有数据遍历完一遍之后，相应的对Dataloader也完成了一次迭代。"
   ],
   "metadata": {
    "collapsed": false
   }
  },
  {
   "cell_type": "code",
   "execution_count": 97,
   "outputs": [
    {
     "name": "stdout",
     "output_type": "stream",
     "text": [
      "        car         car        frog        deer\n"
     ]
    },
    {
     "data": {
      "text/plain": "<PIL.Image.Image image mode=RGB size=400x100 at 0x10CBCBB0>",
      "image/png": "[encoded data removed]"
     },
     "execution_count": 97,
     "metadata": {},
     "output_type": "execute_result"
    }
   ],
   "source": [
    "dataiter = iter(trainloader)\n",
    "images, labels = dataiter.__next__()\n",
    "print(' '.join('%11s'%classes[labels[j]] for j in range(4)))\n",
    "show(tv.utils.make_grid((images +1)/ 2)).resize((400, 100))"
   ],
   "metadata": {
    "collapsed": false
   }
  },
  {
   "cell_type": "markdown",
   "source": [
    "### 定义网络"
   ],
   "metadata": {
    "collapsed": false
   }
  },
  {
   "cell_type": "code",
   "execution_count": 105,
   "outputs": [
    {
     "name": "stdout",
     "output_type": "stream",
     "text": [
      "Net(\n",
      "  (conv1): Conv2d(3, 6, kernel_size=(5, 5), stride=(1, 1))\n",
      "  (conv2): Conv2d(6, 16, kernel_size=(5, 5), stride=(1, 1))\n",
      "  (fc1): Linear(in_features=400, out_features=120, bias=True)\n",
      "  (fc2): Linear(in_features=120, out_features=84, bias=True)\n",
      "  (fc3): Linear(in_features=84, out_features=10, bias=True)\n",
      ")\n"
     ]
    }
   ],
   "source": [
    "import torch.nn as nn\n",
    "import torch.nn.functional as F\n",
    "\n",
    "class Net(nn.Module):\n",
    "    def __init__(self):\n",
    "        super(Net, self).__init__()\n",
    "        self.conv1 = nn.Conv2d(3, 6, 5) #因为输入是三通道的图\n",
    "        self.conv2 = nn.Conv2d(6, 16, 5)\n",
    "        self.fc1   = nn.Linear(16*5*5, 120)\n",
    "        self.fc2   = nn.Linear(120, 84)\n",
    "        self.fc3   = nn.Linear(84, 10)\n",
    "\n",
    "    def forward(self, x):\n",
    "        #x = F.max_pool2d(F.relu(self.conv1(x)), (2, 2))\n",
    "        x = F.max_pool2d(F.relu(self.conv1(x)), 2)\n",
    "        x = F.max_pool2d(F.relu(self.conv2(x)), 2)\n",
    "        x = x.view(x.size()[0], -1)\n",
    "        x = F.relu(self.fc1(x))\n",
    "        x = F.relu(self.fc2(x))\n",
    "        x = self.fc3(x)\n",
    "\n",
    "        return x\n",
    "\n",
    "net = Net()\n",
    "print(net)\n"
   ],
   "metadata": {
    "collapsed": false
   }
  },
  {
   "cell_type": "markdown",
   "source": [
    "### 定义损失函数 和 优化器"
   ],
   "metadata": {
    "collapsed": false
   }
  },
  {
   "cell_type": "code",
   "execution_count": 106,
   "outputs": [],
   "source": [
    "from  torch import optim\n",
    "criterion = nn.CrossEntropyLoss()\n",
    "optimizer = optim.SGD(net.parameters(), lr=0.01, momentum=0.9)"
   ],
   "metadata": {
    "collapsed": false
   }
  },
  {
   "cell_type": "markdown",
   "source": [
    "### 训练网络\n",
    "\n",
    "* 输入数据\n",
    "* 前向传播 + 后向传播\n",
    "* 更新参数"
   ],
   "metadata": {
    "collapsed": false
   }
  },
  {
   "cell_type": "code",
   "execution_count": 107,
   "outputs": [
    {
     "name": "stdout",
     "output_type": "stream",
     "text": [
      "[1,  2000] loss : 2.080\n",
      "[1,  4000] loss : 2.001\n",
      "[1,  6000] loss : 1.976\n",
      "[1,  8000] loss : 1.952\n",
      "[1, 10000] loss : 1.953\n",
      "[1, 12000] loss : 1.943\n",
      "[2,  2000] loss : 1.961\n",
      "[2,  4000] loss : 1.953\n",
      "[2,  6000] loss : 1.983\n",
      "[2,  8000] loss : 2.053\n",
      "[2, 10000] loss : 2.049\n",
      "[2, 12000] loss : 2.064\n",
      "Finished Training\n"
     ]
    }
   ],
   "source": [
    "t.set_num_threads(8) #设置 线程数\n",
    "\n",
    "for epoch in range(2): #训练数据集的参数\n",
    "\n",
    "    running_los = 0.0\n",
    "    for i, data in enumerate(trainloader, 0): #enumerate的返回值第一个是 batch的地址， 第二个是train_ids\n",
    "        #输入数据\n",
    "        inputs, labels = data\n",
    "\n",
    "        #梯度清零\n",
    "        optimizer.zero_grad()\n",
    "\n",
    "        outputs = net(inputs)\n",
    "        loss = criterion(outputs, labels)\n",
    "        loss.backward()\n",
    "\n",
    "        #update parameters\n",
    "        optimizer.step()\n",
    "\n",
    "        #打印log信息\n",
    "        #loss是一个scalar，需要loss.item()来获取数值， 不能使用loss[0]\n",
    "        running_los += loss.item()\n",
    "        if i % 2000 == 1999: # 每2000个batch打印一下训练状态\n",
    "            print('[%d, %5d] loss : %.3f'\\\n",
    "                  % (epoch+1, i+1, running_los / 2000))\n",
    "            running_los = 0.0\n",
    "print('Finished Training')"
   ],
   "metadata": {
    "collapsed": false
   }
  },
  {
   "cell_type": "code",
   "execution_count": 108,
   "outputs": [
    {
     "name": "stdout",
     "output_type": "stream",
     "text": [
      "实际的label :     truck     deer    truck     deer\n"
     ]
    },
    {
     "data": {
      "text/plain": "<PIL.Image.Image image mode=RGB size=400x100 at 0x10C60E50>",
      "image/png": "[encoded data removed]"
     },
     "execution_count": 108,
     "metadata": {},
     "output_type": "execute_result"
    }
   ],
   "source": [
    "dataiter = iter(testloader)\n",
    "images, labels = dataiter.__next__()\n",
    "print('实际的label : ', ' '.join(\\\n",
    "    '%08s'%classes[labels[j]] for j in range(4)))\n",
    "show(tv.utils.make_grid(images / 2 - 0.5)).resize((400, 100))"
   ],
   "metadata": {
    "collapsed": false
   }
  },
  {
   "cell_type": "code",
   "execution_count": null,
   "outputs": [],
   "source": [],
   "metadata": {
    "collapsed": false
   }
  }
 ],
 "metadata": {
  "kernelspec": {
   "display_name": "Python 3",
   "language": "python",
   "name": "python3"
  },
  "language_info": {
   "codemirror_mode": {
    "name": "ipython",
    "version": 2
   },
   "file_extension": ".py",
   "mimetype": "text/x-python",
   "name": "python",
   "nbconvert_exporter": "python",
   "pygments_lexer": "ipython2",
   "version": "2.7.6"
  }
 },
 "nbformat": 4,
 "nbformat_minor": 0
}
