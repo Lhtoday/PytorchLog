{
 "cells": [
  {
   "cell_type": "markdown",
   "source": [
    "# 卷积 和 卷积核\n",
    "\n",
    ">https://zhuanlan.zhihu.com/p/417202700\n",
    "> https://zhuanlan.zhihu.com/p/268179286"
   ],
   "metadata": {
    "collapsed": false
   }
  },
  {
   "cell_type": "markdown",
   "source": [
    "\n",
    "#### 卷积可以看做 一个函数f 对另一个函数g的加权叠加\n",
    "\n",
    "##### 卷积核 是一个矩阵 一般来说 卷积和的元素之和 等于1 亮度不变\n",
    "##### 小于1会变暗 大于1会变亮\n",
    "\n",
    "#### 例如\n",
    "##### 要得到 水平梯度\n",
    "\n",
    "###### 初始是 X\n",
    "$$\n",
    " \\left[\n",
    " \\begin{matrix}\n",
    "   1& 1 & 6 \\\\\n",
    "   1 & 1 & 6 \\\\\n",
    "   1 & 1 & 6\n",
    "  \\end{matrix}\n",
    "  \\right] \\tag{3}\n",
    "$$\n",
    "\n",
    "###### 卷积核 K\n",
    "$$\n",
    " \\left[\n",
    " \\begin{matrix}\n",
    "   -1 & 0 & 1 \\\\\n",
    "   -1 & 0 & 1 \\\\\n",
    "   -1 & 0 & 1\n",
    "  \\end{matrix}\n",
    "  \\right]\n",
    "$$\n",
    "\n",
    "###### X *Ｋ得到 (注意是点乘！！！)\n",
    "\n",
    "$$\n",
    " \\left[\n",
    " \\begin{matrix}\n",
    "   -1 & 0 & 6 \\\\\n",
    "   -1 & 0 & 6 \\\\\n",
    "   -1 & 0 & 6\n",
    "  \\end{matrix}\n",
    "  \\right]\n",
    "$$\n",
    "\n"
   ],
   "metadata": {
    "collapsed": false
   }
  },
  {
   "cell_type": "markdown",
   "source": [
    "###### 由于像素值 是 0 ~ 255 所以 应该是还有一部处理\n",
    "###### 来解决 负数 像素问题 根据结果来看 确实是 右边比做变更量， 左边 变为黑色"
   ],
   "metadata": {
    "collapsed": false
   }
  },
  {
   "cell_type": "code",
   "execution_count": null,
   "outputs": [],
   "source": [],
   "metadata": {
    "collapsed": false
   }
  },
  {
   "cell_type": "code",
   "execution_count": null,
   "outputs": [],
   "source": [],
   "metadata": {
    "collapsed": false
   }
  }
 ],
 "metadata": {
  "kernelspec": {
   "display_name": "Python 3",
   "language": "python",
   "name": "python3"
  },
  "language_info": {
   "codemirror_mode": {
    "name": "ipython",
    "version": 2
   },
   "file_extension": ".py",
   "mimetype": "text/x-python",
   "name": "python",
   "nbconvert_exporter": "python",
   "pygments_lexer": "ipython2",
   "version": "2.7.6"
  }
 },
 "nbformat": 4,
 "nbformat_minor": 0
}
